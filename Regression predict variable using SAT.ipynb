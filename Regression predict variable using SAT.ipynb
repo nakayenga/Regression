{
 "cells": [
  {
   "cell_type": "markdown",
   "metadata": {},
   "source": [
    "# ANX 603- Python Programming for Analytics\n",
    "## Dr. Ali Dag\n",
    "## Assignment 7 (Linear Regression- Python Application)\n",
    "\n",
    "### Note that there are 2 questions in this assignment.Each question is worth 5 pts and each subquestion is 2.5 pts totaling 10 points. \n",
    "\n",
    "### Also note that, I have designed the notebook in a way that, you can use one cell per each subquestion. \n",
    "\n",
    "\n",
    "\n",
    "### Name the file “Name_Assignment7.ipynb” <br />\n",
    "\n",
    "If the question is not clear for you:<br />\n",
    "    - Use your judgement\n",
    "    - State your assumptions (what do you understand)\n",
    "    - Solve the problem\n",
    "    \n",
    "Good luck!\n",
    "\n",
    "\n",
    "\n",
    "\n"
   ]
  },
  {
   "cell_type": "markdown",
   "metadata": {},
   "source": [
    "### Note that, we will consider \"Linear Regression with sklearn10rows.csv\" dataset for our analysis for this assignment (for all of the questions)"
   ]
  },
  {
   "cell_type": "markdown",
   "metadata": {},
   "source": [
    "### Question 1a)\n",
    "\n",
    "\n",
    "#### Our goal is to predict the \"GPA\" variable by using the two independent continous variables(\"SAT\" and \"Rand 1,2,3\").  Perform \"Linear Regression\" by using \"Scikitlearn\" library, by splitting the data into Training(%80) and Test(20%) sets.  Please, follow the \"7- step\" instructions, and show these steps one by one (as I have done in the course material). And, report the following information; \n",
    "\n",
    " - Intercept,Coefficients,\n",
    " - Prediction results (predicted GPAs) for the test set,\n",
    " - R-square of the model,\n",
    " - And,  MSE, RMSE, and MAE results (please note that, you need to compare the \"actual outputs\" of the test set against  \"predicted ouputs\" of the test set."
   ]
  },
  {
   "cell_type": "markdown",
   "metadata": {},
   "source": [
    "#### Step 1) Get the data"
   ]
  },
  {
   "cell_type": "code",
   "execution_count": 1,
   "metadata": {},
   "outputs": [],
   "source": [
    "import pandas as pd\n",
    "import numpy as np"
   ]
  },
  {
   "cell_type": "code",
   "execution_count": 2,
   "metadata": {},
   "outputs": [],
   "source": [
    "Data = pd.read_csv('Linear Regression with sklearn10rows.csv')"
   ]
  },
  {
   "cell_type": "markdown",
   "metadata": {},
   "source": [
    "#### Step 2)  Determining the independent Variables and y Dependent variable"
   ]
  },
  {
   "cell_type": "code",
   "execution_count": 3,
   "metadata": {},
   "outputs": [],
   "source": [
    "X = Data[['SAT', 'Rand 1,2,3']]\n",
    "y = Data['GPA']"
   ]
  },
  {
   "cell_type": "markdown",
   "metadata": {},
   "source": [
    "#### Step 3) Split the data into train and test sets.\n",
    "\n",
    "\n",
    "Now let's split the data into a training set and a testing set. We will train out model on the training set and then use the test set to evaluate the model."
   ]
  },
  {
   "cell_type": "code",
   "execution_count": 4,
   "metadata": {},
   "outputs": [],
   "source": [
    "from sklearn.model_selection import train_test_split\n",
    "X_train, X_test, y_train, y_test = train_test_split(X, y, test_size=0.2, shuffle = False)"
   ]
  },
  {
   "cell_type": "markdown",
   "metadata": {},
   "source": [
    "#### Step 4) Fit/train the model.\n"
   ]
  },
  {
   "cell_type": "code",
   "execution_count": 5,
   "metadata": {},
   "outputs": [
    {
     "data": {
      "text/plain": [
       "LinearRegression()"
      ]
     },
     "execution_count": 5,
     "metadata": {},
     "output_type": "execute_result"
    }
   ],
   "source": [
    "# Fit the model\n",
    "from sklearn.linear_model import LinearRegression\n",
    "linreg1 = LinearRegression()\n",
    "linreg1.fit(X_train,y_train)"
   ]
  },
  {
   "cell_type": "markdown",
   "metadata": {},
   "source": [
    "#### Step 5) Find the coefficients and intercept etc."
   ]
  },
  {
   "cell_type": "code",
   "execution_count": 6,
   "metadata": {},
   "outputs": [
    {
     "name": "stdout",
     "output_type": "stream",
     "text": [
      "[ 0.00120111 -0.07719277]\n",
      "0.8378777821939609\n"
     ]
    }
   ],
   "source": [
    "# Obtaining the coefficients and the intercept of the model\n",
    "print(linreg1.coef_)\n",
    "print(linreg1.intercept_)"
   ]
  },
  {
   "cell_type": "markdown",
   "metadata": {},
   "source": [
    "#### Step 6) Apply the trained model to test set and make predictions."
   ]
  },
  {
   "cell_type": "code",
   "execution_count": 7,
   "metadata": {},
   "outputs": [
    {
     "data": {
      "text/plain": [
       "array([2.83588653, 2.82835831])"
      ]
     },
     "execution_count": 7,
     "metadata": {},
     "output_type": "execute_result"
    }
   ],
   "source": [
    "y_predicted = linreg1.predict(X_test)\n",
    "y_predicted"
   ]
  },
  {
   "cell_type": "markdown",
   "metadata": {},
   "source": [
    "#### Step 7) Evaluate the model.  ( R-square, MSE, RMSE, and RMSE of the model)"
   ]
  },
  {
   "cell_type": "code",
   "execution_count": 8,
   "metadata": {},
   "outputs": [
    {
     "name": "stdout",
     "output_type": "stream",
     "text": [
      "R2 of the model is equal to 0.22965842397148772\n",
      "MAE: 0.17787758346581928\n",
      "MSE: 0.03165460322145758\n",
      "RMSE: 0.17791740561692546\n"
     ]
    }
   ],
   "source": [
    "# And, finally Model Evaluation\n",
    "\n",
    "print(\"R2 of the model is equal to\", linreg1.score(X,y))\n",
    "from sklearn import metrics\n",
    "print('MAE:', metrics.mean_absolute_error(y_test, y_predicted))\n",
    "print('MSE:', metrics.mean_squared_error(y_test, y_predicted))\n",
    "print('RMSE:', np.sqrt(metrics.mean_squared_error(y_test, y_predicted)))\n"
   ]
  },
  {
   "cell_type": "code",
   "execution_count": 9,
   "metadata": {},
   "outputs": [
    {
     "name": "stdout",
     "output_type": "stream",
     "text": [
      "[ 0.00120111 -0.07719277]\n",
      "0.8378777821939609\n",
      "R2 of the model is equal to 0.22965842397148772\n",
      "MAE: 0.17787758346581928\n",
      "MSE: 0.03165460322145758\n",
      "RMSE: 0.17791740561692546\n"
     ]
    }
   ],
   "source": [
    "import pandas as pd\n",
    "import numpy as np\n",
    "\n",
    "Data = pd.read_csv('Linear Regression with sklearn10rows.csv')\n",
    "\n",
    "X = Data[['SAT', 'Rand 1,2,3']]\n",
    "y = Data['GPA']\n",
    "\n",
    "\n",
    "from sklearn.model_selection import train_test_split\n",
    "X_train, X_test, y_train, y_test = train_test_split(X, y, test_size=0.2, shuffle = False)\n",
    "\n",
    "\n",
    "# Fit the model\n",
    "from sklearn.linear_model import LinearRegression\n",
    "linreg1 = LinearRegression()\n",
    "linreg1.fit(X_train,y_train)\n",
    "\n",
    "\n",
    "print(linreg1.coef_)\n",
    "print(linreg1.intercept_)\n",
    "\n",
    "\n",
    "y_predicted = linreg1.predict(X_test)\n",
    "y_predicted\n",
    "\n",
    "\n",
    "\n",
    "# And, finally Model Evaluation\n",
    "\n",
    "print(\"R2 of the model is equal to\", linreg1.score(X,y))\n",
    "from sklearn import metrics\n",
    "print('MAE:', metrics.mean_absolute_error(y_test, y_predicted))\n",
    "print('MSE:', metrics.mean_squared_error(y_test, y_predicted))\n",
    "print('RMSE:', np.sqrt(metrics.mean_squared_error(y_test, y_predicted)))\n"
   ]
  },
  {
   "cell_type": "markdown",
   "metadata": {},
   "source": [
    "### Question 1b ) Answer the following question,  based on the results that you obtained from the previous question (1a)\n",
    "\n",
    " -  In order to have a GPA that is higher than 2.5, what should be the minimum SAT score of a student given that her \"Rand 1,2,3\" score is 2.\n",
    " - Please write a for loop to answer this question, that performs trial and error for the numbers that are in between 1500 and 1600 (as candidate SAT scores). \n",
    " - For example, the loop should try 1500 (as SAT score) first, and if the result (predicted GPA) is less than 2.5, then it should keep trying 1501, 1502, 1503 etc. And, it should stop whenever the result (predicted GPA) is greater than 2.5, \n",
    " - After performing the trial and error, print the SAT score that the student should have, in order to have a GPA that is higher than 2.5'\n",
    " - A sample output is given below:\n",
    "\n",
    " "
   ]
  },
  {
   "cell_type": "code",
   "execution_count": 83,
   "metadata": {},
   "outputs": [
    {
     "name": "stdout",
     "output_type": "stream",
     "text": [
      "1500 does not work\n",
      "1501 does not work\n",
      "1502 does not work\n",
      "1503 does not work\n",
      "1504 does not work\n",
      "1505 does not work\n",
      "1506 does not work\n",
      "1507 does not work\n",
      "1508 does not work\n",
      "1509 does not work\n",
      "1510 does not work\n",
      "1511 does not work\n",
      "1512 does not work\n",
      "she needs to have at least 1513 (as her SAT score) in order to have a GPA that is higher than 2.5\n"
     ]
    },
    {
     "name": "stderr",
     "output_type": "stream",
     "text": [
      "/Users/ada73969/opt/anaconda3/lib/python3.9/site-packages/sklearn/base.py:450: UserWarning: X does not have valid feature names, but LinearRegression was fitted with feature names\n",
      "  warnings.warn(\n",
      "/Users/ada73969/opt/anaconda3/lib/python3.9/site-packages/sklearn/base.py:450: UserWarning: X does not have valid feature names, but LinearRegression was fitted with feature names\n",
      "  warnings.warn(\n",
      "/Users/ada73969/opt/anaconda3/lib/python3.9/site-packages/sklearn/base.py:450: UserWarning: X does not have valid feature names, but LinearRegression was fitted with feature names\n",
      "  warnings.warn(\n",
      "/Users/ada73969/opt/anaconda3/lib/python3.9/site-packages/sklearn/base.py:450: UserWarning: X does not have valid feature names, but LinearRegression was fitted with feature names\n",
      "  warnings.warn(\n",
      "/Users/ada73969/opt/anaconda3/lib/python3.9/site-packages/sklearn/base.py:450: UserWarning: X does not have valid feature names, but LinearRegression was fitted with feature names\n",
      "  warnings.warn(\n",
      "/Users/ada73969/opt/anaconda3/lib/python3.9/site-packages/sklearn/base.py:450: UserWarning: X does not have valid feature names, but LinearRegression was fitted with feature names\n",
      "  warnings.warn(\n",
      "/Users/ada73969/opt/anaconda3/lib/python3.9/site-packages/sklearn/base.py:450: UserWarning: X does not have valid feature names, but LinearRegression was fitted with feature names\n",
      "  warnings.warn(\n",
      "/Users/ada73969/opt/anaconda3/lib/python3.9/site-packages/sklearn/base.py:450: UserWarning: X does not have valid feature names, but LinearRegression was fitted with feature names\n",
      "  warnings.warn(\n",
      "/Users/ada73969/opt/anaconda3/lib/python3.9/site-packages/sklearn/base.py:450: UserWarning: X does not have valid feature names, but LinearRegression was fitted with feature names\n",
      "  warnings.warn(\n",
      "/Users/ada73969/opt/anaconda3/lib/python3.9/site-packages/sklearn/base.py:450: UserWarning: X does not have valid feature names, but LinearRegression was fitted with feature names\n",
      "  warnings.warn(\n",
      "/Users/ada73969/opt/anaconda3/lib/python3.9/site-packages/sklearn/base.py:450: UserWarning: X does not have valid feature names, but LinearRegression was fitted with feature names\n",
      "  warnings.warn(\n",
      "/Users/ada73969/opt/anaconda3/lib/python3.9/site-packages/sklearn/base.py:450: UserWarning: X does not have valid feature names, but LinearRegression was fitted with feature names\n",
      "  warnings.warn(\n",
      "/Users/ada73969/opt/anaconda3/lib/python3.9/site-packages/sklearn/base.py:450: UserWarning: X does not have valid feature names, but LinearRegression was fitted with feature names\n",
      "  warnings.warn(\n",
      "/Users/ada73969/opt/anaconda3/lib/python3.9/site-packages/sklearn/base.py:450: UserWarning: X does not have valid feature names, but LinearRegression was fitted with feature names\n",
      "  warnings.warn(\n"
     ]
    }
   ],
   "source": [
    "for i in range (1500,1600):\n",
    "    GPA_score = linreg1.predict([[i,2]])\n",
    "    if GPA_score > 2.5:\n",
    "        print('she needs to have at least',i,'(as her SAT score) in order to have a GPA that is higher than 2.5')\n",
    "        break\n",
    "    else:\n",
    "        print(i, 'does not work')"
   ]
  },
  {
   "cell_type": "markdown",
   "metadata": {},
   "source": [
    "### Question 2a) \n",
    "\n",
    "#### Perform the same exact analysis (in Question 1.a), by using  \"statsmodels\" instead of \"Scikitlearn\" , by again splitting the data into Training(%80) and Test(20%) sets.  Please, follow the \"6- step\" instructions, and show these steps one by one (as I have done in the course material). And, report the following information; \n",
    "\n",
    " - Report Intercept and Coefficients. \n",
    " - Question : Based on the results that you obtained in the summary table, Do you believe that, p-value of the F-test (overall model), and p-values of the independent variables are consistent ?\n",
    " \n",
    " - Report Prediction results (predicted GPAs) for the test set.\n",
    " \n",
    " - Report MSE, RMSE, and MAE results (please note that, you need to compare the \"actual outputs\" of the test set against  \"predicted ouputs\" of the test set."
   ]
  },
  {
   "cell_type": "markdown",
   "metadata": {},
   "source": [
    "#### Step 1 : Load the data"
   ]
  },
  {
   "cell_type": "code",
   "execution_count": 84,
   "metadata": {},
   "outputs": [],
   "source": [
    "data = pd.read_csv('Linear Regression with sklearn10rows.csv')"
   ]
  },
  {
   "cell_type": "markdown",
   "metadata": {},
   "source": [
    "#### Step 2: Letting the model know that what the independent variables and dependent variables are."
   ]
  },
  {
   "cell_type": "code",
   "execution_count": 85,
   "metadata": {},
   "outputs": [],
   "source": [
    "X = Data[['SAT', 'Rand 1,2,3']]\n",
    "y = Data['GPA']"
   ]
  },
  {
   "cell_type": "markdown",
   "metadata": {},
   "source": [
    "#### Step 3: Determining the train and the test"
   ]
  },
  {
   "cell_type": "code",
   "execution_count": 86,
   "metadata": {},
   "outputs": [],
   "source": [
    "from sklearn.model_selection import train_test_split\n",
    "X_train, X_test, y_train, y_test = train_test_split(X, y, test_size=0.2, shuffle = False)"
   ]
  },
  {
   "cell_type": "markdown",
   "metadata": {},
   "source": [
    "#### Step 4: Creating a constant \"1\", for intercept."
   ]
  },
  {
   "cell_type": "code",
   "execution_count": 87,
   "metadata": {},
   "outputs": [],
   "source": [
    "import statsmodels.api as sm\n",
    "\n",
    "\n",
    "y = y_train\n",
    "X1= X_train\n",
    "# Here, we are creating a separate column for the intercept. Sucn entire column is filled with \"1\"\n",
    "X = sm.add_constant(X1)"
   ]
  },
  {
   "cell_type": "markdown",
   "metadata": {},
   "source": [
    "#### Step 5: Fitting/training the model"
   ]
  },
  {
   "cell_type": "code",
   "execution_count": 88,
   "metadata": {},
   "outputs": [],
   "source": [
    "import numpy as np\n",
    "import statsmodels.api as sm\n",
    "\n",
    "linreg2 = LinearRegression()\n",
    "linreg2.fit(X_train,y_train)\n",
    "results = sm.OLS(y,X).fit()"
   ]
  },
  {
   "cell_type": "markdown",
   "metadata": {},
   "source": [
    "#### Step 6 : Print a nice summary of the regression to see what the coefficients, intercept and other things are"
   ]
  },
  {
   "cell_type": "code",
   "execution_count": 89,
   "metadata": {
    "scrolled": true
   },
   "outputs": [
    {
     "name": "stderr",
     "output_type": "stream",
     "text": [
      "/Users/ada73969/opt/anaconda3/lib/python3.9/site-packages/scipy/stats/stats.py:1541: UserWarning: kurtosistest only valid for n>=20 ... continuing anyway, n=8\n",
      "  warnings.warn(\"kurtosistest only valid for n>=20 ... continuing \"\n"
     ]
    },
    {
     "data": {
      "text/html": [
       "<table class=\"simpletable\">\n",
       "<caption>OLS Regression Results</caption>\n",
       "<tr>\n",
       "  <th>Dep. Variable:</th>           <td>GPA</td>       <th>  R-squared:         </th> <td>   0.163</td>\n",
       "</tr>\n",
       "<tr>\n",
       "  <th>Model:</th>                   <td>OLS</td>       <th>  Adj. R-squared:    </th> <td>  -0.171</td>\n",
       "</tr>\n",
       "<tr>\n",
       "  <th>Method:</th>             <td>Least Squares</td>  <th>  F-statistic:       </th> <td>  0.4886</td>\n",
       "</tr>\n",
       "<tr>\n",
       "  <th>Date:</th>             <td>Wed, 05 Oct 2022</td> <th>  Prob (F-statistic):</th>  <td> 0.640</td> \n",
       "</tr>\n",
       "<tr>\n",
       "  <th>Time:</th>                 <td>12:10:16</td>     <th>  Log-Likelihood:    </th> <td>  1.5914</td>\n",
       "</tr>\n",
       "<tr>\n",
       "  <th>No. Observations:</th>      <td>     8</td>      <th>  AIC:               </th> <td>   2.817</td>\n",
       "</tr>\n",
       "<tr>\n",
       "  <th>Df Residuals:</th>          <td>     5</td>      <th>  BIC:               </th> <td>   3.055</td>\n",
       "</tr>\n",
       "<tr>\n",
       "  <th>Df Model:</th>              <td>     2</td>      <th>                     </th>     <td> </td>   \n",
       "</tr>\n",
       "<tr>\n",
       "  <th>Covariance Type:</th>      <td>nonrobust</td>    <th>                     </th>     <td> </td>   \n",
       "</tr>\n",
       "</table>\n",
       "<table class=\"simpletable\">\n",
       "<tr>\n",
       "       <td></td>         <th>coef</th>     <th>std err</th>      <th>t</th>      <th>P>|t|</th>  <th>[0.025</th>    <th>0.975]</th>  \n",
       "</tr>\n",
       "<tr>\n",
       "  <th>const</th>      <td>    0.8379</td> <td>    3.870</td> <td>    0.217</td> <td> 0.837</td> <td>   -9.109</td> <td>   10.785</td>\n",
       "</tr>\n",
       "<tr>\n",
       "  <th>SAT</th>        <td>    0.0012</td> <td>    0.002</td> <td>    0.537</td> <td> 0.614</td> <td>   -0.005</td> <td>    0.007</td>\n",
       "</tr>\n",
       "<tr>\n",
       "  <th>Rand 1,2,3</th> <td>   -0.0772</td> <td>    0.103</td> <td>   -0.746</td> <td> 0.489</td> <td>   -0.343</td> <td>    0.189</td>\n",
       "</tr>\n",
       "</table>\n",
       "<table class=\"simpletable\">\n",
       "<tr>\n",
       "  <th>Omnibus:</th>       <td> 3.597</td> <th>  Durbin-Watson:     </th> <td>   1.725</td>\n",
       "</tr>\n",
       "<tr>\n",
       "  <th>Prob(Omnibus):</th> <td> 0.166</td> <th>  Jarque-Bera (JB):  </th> <td>   1.463</td>\n",
       "</tr>\n",
       "<tr>\n",
       "  <th>Skew:</th>          <td>-1.042</td> <th>  Prob(JB):          </th> <td>   0.481</td>\n",
       "</tr>\n",
       "<tr>\n",
       "  <th>Kurtosis:</th>      <td> 2.789</td> <th>  Cond. No.          </th> <td>7.48e+04</td>\n",
       "</tr>\n",
       "</table><br/><br/>Notes:<br/>[1] Standard Errors assume that the covariance matrix of the errors is correctly specified.<br/>[2] The condition number is large, 7.48e+04. This might indicate that there are<br/>strong multicollinearity or other numerical problems."
      ],
      "text/plain": [
       "<class 'statsmodels.iolib.summary.Summary'>\n",
       "\"\"\"\n",
       "                            OLS Regression Results                            \n",
       "==============================================================================\n",
       "Dep. Variable:                    GPA   R-squared:                       0.163\n",
       "Model:                            OLS   Adj. R-squared:                 -0.171\n",
       "Method:                 Least Squares   F-statistic:                    0.4886\n",
       "Date:                Wed, 05 Oct 2022   Prob (F-statistic):              0.640\n",
       "Time:                        12:10:16   Log-Likelihood:                 1.5914\n",
       "No. Observations:                   8   AIC:                             2.817\n",
       "Df Residuals:                       5   BIC:                             3.055\n",
       "Df Model:                           2                                         \n",
       "Covariance Type:            nonrobust                                         \n",
       "==============================================================================\n",
       "                 coef    std err          t      P>|t|      [0.025      0.975]\n",
       "------------------------------------------------------------------------------\n",
       "const          0.8379      3.870      0.217      0.837      -9.109      10.785\n",
       "SAT            0.0012      0.002      0.537      0.614      -0.005       0.007\n",
       "Rand 1,2,3    -0.0772      0.103     -0.746      0.489      -0.343       0.189\n",
       "==============================================================================\n",
       "Omnibus:                        3.597   Durbin-Watson:                   1.725\n",
       "Prob(Omnibus):                  0.166   Jarque-Bera (JB):                1.463\n",
       "Skew:                          -1.042   Prob(JB):                        0.481\n",
       "Kurtosis:                       2.789   Cond. No.                     7.48e+04\n",
       "==============================================================================\n",
       "\n",
       "Notes:\n",
       "[1] Standard Errors assume that the covariance matrix of the errors is correctly specified.\n",
       "[2] The condition number is large, 7.48e+04. This might indicate that there are\n",
       "strong multicollinearity or other numerical problems.\n",
       "\"\"\""
      ]
     },
     "execution_count": 89,
     "metadata": {},
     "output_type": "execute_result"
    }
   ],
   "source": [
    "results.summary()"
   ]
  },
  {
   "cell_type": "markdown",
   "metadata": {},
   "source": [
    "#### Step 7 )  - Report Prediction results (predicted GPAs)for the test set. And, report MSE, RMSE, and MAE results (please note that, you need to compare the \"actual outputs\" of the test set against  \"predicted ouputs\" of the test set."
   ]
  },
  {
   "cell_type": "code",
   "execution_count": 90,
   "metadata": {},
   "outputs": [
    {
     "name": "stdout",
     "output_type": "stream",
     "text": [
      "8    2.835887\n",
      "9    2.828358\n",
      "dtype: float64\n",
      "MAE: 0.17787758346581728\n",
      "MSE: 0.03165460322145687\n",
      "RMSE: 0.17791740561692346\n"
     ]
    }
   ],
   "source": [
    "# We can make predictions for our test set though.\n",
    "# But, again we need to create the \"constant\" column, if we want to use statsmodels.\n",
    "X_test_updated= sm.add_constant(X_test)\n",
    "y_predicted2 = results.predict(X_test_updated)\n",
    "print(y_predicted2)\n",
    "print('MAE:', metrics.mean_absolute_error(y_test, y_predicted2))\n",
    "print('MSE:', metrics.mean_squared_error(y_test, y_predicted2))\n",
    "print('RMSE:', np.sqrt(metrics.mean_squared_error(y_test, y_predicted2)))"
   ]
  },
  {
   "cell_type": "markdown",
   "metadata": {},
   "source": [
    "\n",
    "\n",
    "\n",
    "### 2b) Answer the following question,  based on the results that you obtained from Question 2a;\n",
    "\n",
    "\n",
    " - What is the predicted GPA value of a student whose SAT score is \"1850\" and \"Rand 1,2,3\" is 3. (As you may have realized, the last row in the original data has the SAT score of 1850, and the \"Rand 1,2,3\" score of 3. So, this case was the last row in the test set. And, we had made our predictions for the test cases (X_test)in Question 1a and 2a. Please go ahead and compare the results to see if they match.\n",
    " \n"
   ]
  },
  {
   "cell_type": "code",
   "execution_count": 91,
   "metadata": {},
   "outputs": [
    {
     "data": {
      "text/html": [
       "<div>\n",
       "<style scoped>\n",
       "    .dataframe tbody tr th:only-of-type {\n",
       "        vertical-align: middle;\n",
       "    }\n",
       "\n",
       "    .dataframe tbody tr th {\n",
       "        vertical-align: top;\n",
       "    }\n",
       "\n",
       "    .dataframe thead th {\n",
       "        text-align: right;\n",
       "    }\n",
       "</style>\n",
       "<table border=\"1\" class=\"dataframe\">\n",
       "  <thead>\n",
       "    <tr style=\"text-align: right;\">\n",
       "      <th></th>\n",
       "      <th>SAT</th>\n",
       "      <th>Rand 1,2,3</th>\n",
       "      <th>GPA</th>\n",
       "    </tr>\n",
       "  </thead>\n",
       "  <tbody>\n",
       "    <tr>\n",
       "      <th>0</th>\n",
       "      <td>1664</td>\n",
       "      <td>3</td>\n",
       "      <td>2.52</td>\n",
       "    </tr>\n",
       "    <tr>\n",
       "      <th>1</th>\n",
       "      <td>1670</td>\n",
       "      <td>1</td>\n",
       "      <td>2.91</td>\n",
       "    </tr>\n",
       "    <tr>\n",
       "      <th>2</th>\n",
       "      <td>1685</td>\n",
       "      <td>3</td>\n",
       "      <td>2.74</td>\n",
       "    </tr>\n",
       "    <tr>\n",
       "      <th>3</th>\n",
       "      <td>1693</td>\n",
       "      <td>2</td>\n",
       "      <td>2.83</td>\n",
       "    </tr>\n",
       "    <tr>\n",
       "      <th>4</th>\n",
       "      <td>1714</td>\n",
       "      <td>1</td>\n",
       "      <td>2.40</td>\n",
       "    </tr>\n",
       "    <tr>\n",
       "      <th>5</th>\n",
       "      <td>1760</td>\n",
       "      <td>3</td>\n",
       "      <td>2.54</td>\n",
       "    </tr>\n",
       "    <tr>\n",
       "      <th>6</th>\n",
       "      <td>1764</td>\n",
       "      <td>2</td>\n",
       "      <td>3.00</td>\n",
       "    </tr>\n",
       "    <tr>\n",
       "      <th>7</th>\n",
       "      <td>1764</td>\n",
       "      <td>1</td>\n",
       "      <td>3.00</td>\n",
       "    </tr>\n",
       "    <tr>\n",
       "      <th>8</th>\n",
       "      <td>1792</td>\n",
       "      <td>2</td>\n",
       "      <td>3.01</td>\n",
       "    </tr>\n",
       "    <tr>\n",
       "      <th>9</th>\n",
       "      <td>1850</td>\n",
       "      <td>3</td>\n",
       "      <td>3.01</td>\n",
       "    </tr>\n",
       "  </tbody>\n",
       "</table>\n",
       "</div>"
      ],
      "text/plain": [
       "    SAT  Rand 1,2,3   GPA\n",
       "0  1664           3  2.52\n",
       "1  1670           1  2.91\n",
       "2  1685           3  2.74\n",
       "3  1693           2  2.83\n",
       "4  1714           1  2.40\n",
       "5  1760           3  2.54\n",
       "6  1764           2  3.00\n",
       "7  1764           1  3.00\n",
       "8  1792           2  3.01\n",
       "9  1850           3  3.01"
      ]
     },
     "execution_count": 91,
     "metadata": {},
     "output_type": "execute_result"
    }
   ],
   "source": [
    "Data"
   ]
  },
  {
   "cell_type": "code",
   "execution_count": 92,
   "metadata": {},
   "outputs": [
    {
     "data": {
      "text/plain": [
       "0    2.828358\n",
       "dtype: float64"
      ]
     },
     "execution_count": 92,
     "metadata": {},
     "output_type": "execute_result"
    }
   ],
   "source": [
    "results.predict(pd.DataFrame({'const': 1, 'SAT': [1850], \n",
    "                          'Rand 1,2,3': [3]}))"
   ]
  },
  {
   "cell_type": "code",
   "execution_count": 1,
   "metadata": {},
   "outputs": [
    {
     "ename": "NameError",
     "evalue": "name 'linreg1' is not defined",
     "output_type": "error",
     "traceback": [
      "\u001b[1;31m---------------------------------------------------------------------------\u001b[0m",
      "\u001b[1;31mNameError\u001b[0m                                 Traceback (most recent call last)",
      "Cell \u001b[1;32mIn[1], line 2\u001b[0m\n\u001b[0;32m      1\u001b[0m \u001b[38;5;66;03m# recall, the following was the code that allowed us to predict the test cases in question 1a \u001b[39;00m\n\u001b[1;32m----> 2\u001b[0m y_predicted \u001b[38;5;241m=\u001b[39m linreg1\u001b[38;5;241m.\u001b[39mpredict(X_test)\n\u001b[0;32m      3\u001b[0m y_predicted\n",
      "\u001b[1;31mNameError\u001b[0m: name 'linreg1' is not defined"
     ]
    }
   ],
   "source": [
    "# recall, the following was the code that allowed us to predict the test cases in question 1a \n",
    "y_predicted = linreg1.predict(X_test)\n",
    "y_predicted\n",
    "\n",
    "                          "
   ]
  },
  {
   "cell_type": "code",
   "execution_count": 94,
   "metadata": {},
   "outputs": [
    {
     "data": {
      "text/plain": [
       "8    2.835887\n",
       "9    2.828358\n",
       "dtype: float64"
      ]
     },
     "execution_count": 94,
     "metadata": {},
     "output_type": "execute_result"
    }
   ],
   "source": [
    "# recall, the following was the code that allowed us to predict the test cases in question 2a.\n",
    "\n",
    "y_predicted2 = results.predict(X_test_updated)\n",
    "y_predicted2"
   ]
  },
  {
   "cell_type": "markdown",
   "metadata": {},
   "source": [
    "## Great Job!"
   ]
  },
  {
   "cell_type": "code",
   "execution_count": null,
   "metadata": {},
   "outputs": [],
   "source": []
  }
 ],
 "metadata": {
  "kernelspec": {
   "display_name": "Python 3 (ipykernel)",
   "language": "python",
   "name": "python3"
  },
  "language_info": {
   "codemirror_mode": {
    "name": "ipython",
    "version": 3
   },
   "file_extension": ".py",
   "mimetype": "text/x-python",
   "name": "python",
   "nbconvert_exporter": "python",
   "pygments_lexer": "ipython3",
   "version": "3.12.4"
  }
 },
 "nbformat": 4,
 "nbformat_minor": 4
}
